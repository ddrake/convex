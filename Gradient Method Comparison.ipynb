{
 "cells": [
  {
   "cell_type": "markdown",
   "metadata": {},
   "source": [
    "# Math 616 HW 3 - Set 1\n",
    "\n",
    "### Comparison of Gradient Method with Nesterov's Accelerated Gradient Method"
   ]
  },
  {
   "cell_type": "code",
   "execution_count": 32,
   "metadata": {
    "collapsed": true
   },
   "outputs": [],
   "source": [
    "from numpy import *\n",
    "from matplotlib import pyplot as plt\n",
    "import scipy.linalg as la\n",
    "\n",
    "def f(x):\n",
    "    a = array([[1,1/2],[1/2,1]])\n",
    "    b = array([1,-1])\n",
    "    return x.dot(a.dot(x)) + b.dot(x)\n",
    "\n",
    "def grad_f(x):\n",
    "    a = array([[1,1/2],[1/2,1]])\n",
    "    b = array([1,-1])\n",
    "    return 2*a.dot(x) + b\n",
    "\n",
    "# Gradient method\n",
    "def gradient(max_gradf=1.0e-4, x0=[5.0,10.0], t=0.1):\n",
    "    fs = []\n",
    "    xk = array(x0)\n",
    "    gfk = grad_f(xk)\n",
    "    gfk_n2 = la.norm(gfk)\n",
    "    while gfk_n2 > max_gradf:\n",
    "        gfk = grad_f(xk)\n",
    "        gfk_n2 = la.norm(gfk)\n",
    "        xk -= t*gfk\n",
    "        fk = f(xk)   # storing the function values for plot\n",
    "        fs.append(fk)\n",
    "    return array(fs), xk\n",
    "\n",
    "# Nesterov method\n",
    "def nesterov(max_gradf=1.0e-4, x0=[5.0,10.0], t=0.1):\n",
    "    fs = []\n",
    "    xk = array(x0)\n",
    "    yk = xk\n",
    "    gfk = grad_f(xk)\n",
    "    gfk_n2 = la.norm(gfk)\n",
    "    tk = 1\n",
    "    k = 1\n",
    "    while gfk_n2 > max_gradf:\n",
    "        gfk = grad_f(yk)\n",
    "        xk1 = yk - t*gfk\n",
    "        tk1 = (1.0 + sqrt(1.0 + 4.0*tk*tk))/2.0\n",
    "        g = (tk-1)/tk1\n",
    "        yk = xk1 + g*(xk1 - xk)\n",
    "        fk = f(xk)   # storing the function values for plot\n",
    "        fs.append(fk)\n",
    "        tk = tk1\n",
    "        xk = xk1\n",
    "        gfk_n2 = la.norm(gfk)\n",
    "        k+=1\n",
    "    return array(fs), xk\n",
    "\n",
    "# Compute convergence rates\n",
    "def conv_rate(alg, limit):\n",
    "    fs, x = alg()\n",
    "    rs = (fs[1:]-limit)/(fs[:-1]-limit)\n",
    "    plt.plot(rs)\n",
    "    plt.title(\"Convergence Rate for '{}'\".format(alg.__name__.title()))\n",
    "    plt.show()\n",
    "    return rs"
   ]
  },
  {
   "cell_type": "code",
   "execution_count": 37,
   "metadata": {},
   "outputs": [
    {
     "ename": "AttributeError",
     "evalue": "module 'matplotlib.pyplot' has no attribute 'subtitle'",
     "output_type": "error",
     "traceback": [
      "\u001b[0;31m---------------------------------------------------------------------------\u001b[0m",
      "\u001b[0;31mAttributeError\u001b[0m                            Traceback (most recent call last)",
      "\u001b[0;32m<ipython-input-37-82a60d3205c2>\u001b[0m in \u001b[0;36m<module>\u001b[0;34m()\u001b[0m\n\u001b[1;32m      3\u001b[0m \u001b[0mplt\u001b[0m\u001b[0;34m.\u001b[0m\u001b[0mplot\u001b[0m\u001b[0;34m(\u001b[0m\u001b[0mfsg\u001b[0m\u001b[0;34m)\u001b[0m\u001b[0;34m\u001b[0m\u001b[0m\n\u001b[1;32m      4\u001b[0m \u001b[0mplt\u001b[0m\u001b[0;34m.\u001b[0m\u001b[0mtitle\u001b[0m\u001b[0;34m(\u001b[0m\u001b[0;34m\"Function values For Gradient Method\"\u001b[0m\u001b[0;34m)\u001b[0m\u001b[0;34m\u001b[0m\u001b[0m\n\u001b[0;32m----> 5\u001b[0;31m \u001b[0mplt\u001b[0m\u001b[0;34m.\u001b[0m\u001b[0msubtitle\u001b[0m\u001b[0;34m(\u001b[0m\u001b[0;34m\"Max Gradient < 1.0E-4\"\u001b[0m\u001b[0;34m)\u001b[0m\u001b[0;34m\u001b[0m\u001b[0m\n\u001b[0m\u001b[1;32m      6\u001b[0m \u001b[0mplt\u001b[0m\u001b[0;34m.\u001b[0m\u001b[0mshow\u001b[0m\u001b[0;34m(\u001b[0m\u001b[0;34m)\u001b[0m\u001b[0;34m\u001b[0m\u001b[0m\n",
      "\u001b[0;31mAttributeError\u001b[0m: module 'matplotlib.pyplot' has no attribute 'subtitle'"
     ]
    }
   ],
   "source": [
    "# Get the y values and solution using the gradient method\n",
    "fsg, xkg = gradient()\n",
    "plt.plot(fsg)\n",
    "plt.title(\"Function values For Gradient Method\")\n",
    "plt.subtitle(\"Max Gradient < 1.0E-4\")\n",
    "plt.show()"
   ]
  },
  {
   "cell_type": "code",
   "execution_count": 34,
   "metadata": {},
   "outputs": [
    {
     "data": {
      "image/png": "[encoded data removed]",
      "text/plain": [
       "<matplotlib.figure.Figure at 0x7f0f82833128>"
      ]
     },
     "metadata": {},
     "output_type": "display_data"
    }
   ],
   "source": [
    "# Get the y values and solution using the gradient method\n",
    "fsn, xkn = nesterov()\n",
    "plt.plot(fsn)\n",
    "plt.title(\"Function values For Nesterov Method\")\n",
    "plt.show()"
   ]
  },
  {
   "cell_type": "markdown",
   "metadata": {},
   "source": [
    "We see that, as expected, the convergence rate of the gradient algorithm is linear with convergence rate 0.81"
   ]
  },
  {
   "cell_type": "code",
   "execution_count": 35,
   "metadata": {},
   "outputs": [
    {
     "name": "stdout",
     "output_type": "stream",
     "text": [
      "96 steps to converge\n"
     ]
    },
    {
     "data": {
      "image/png": "[encoded data removed]",
      "text/plain": [
       "<matplotlib.figure.Figure at 0x7f0f82921c18>"
      ]
     },
     "metadata": {},
     "output_type": "display_data"
    },
    {
     "data": {
      "text/plain": [
       "array([ 0.49690096,  0.50124928,  0.50817841,  0.51897508,  0.5352234 ,\n",
       "        0.55844049,  0.58927073,  0.6264556 ,  0.66643555,  0.70444354,\n",
       "        0.73657656,  0.76115581,  0.77855617,  0.79021019,  0.79772857,\n",
       "        0.80246235,  0.80539736,  0.80719977,  0.80830016,  0.80896954,\n",
       "        0.80937584,  0.80962213,  0.80977131,  0.80986162,  0.80991627,\n",
       "        0.80994934,  0.80996935,  0.80998146,  0.80998878,  0.80999322,\n",
       "        0.8099959 ,  0.80999752,  0.8099985 ,  0.80999909,  0.80999945,\n",
       "        0.80999967,  0.8099998 ,  0.80999988,  0.80999993,  0.80999996,\n",
       "        0.80999997,  0.80999998,  0.80999999,  0.80999999,  0.81      ,\n",
       "        0.81      ,  0.81      ,  0.81      ,  0.81      ,  0.81      ,\n",
       "        0.81      ,  0.81      ,  0.81      ,  0.81      ,  0.81      ,\n",
       "        0.81      ,  0.81      ,  0.81      ,  0.81      ,  0.81      ,\n",
       "        0.81      ,  0.81      ,  0.81      ,  0.81      ,  0.81      ,\n",
       "        0.81      ,  0.81      ,  0.81      ,  0.81      ,  0.81      ,\n",
       "        0.81      ,  0.81      ,  0.81      ,  0.81      ,  0.81      ,\n",
       "        0.81      ,  0.81      ,  0.81      ,  0.81      ,  0.81      ,\n",
       "        0.81      ,  0.81      ,  0.81      ,  0.81      ,  0.81      ,\n",
       "        0.81000001,  0.81      ,  0.81000002,  0.81      ,  0.80999997,\n",
       "        0.81000004,  0.80999994,  0.81000002,  0.80999997,  0.81000004])"
      ]
     },
     "execution_count": 35,
     "metadata": {},
     "output_type": "execute_result"
    }
   ],
   "source": [
    "print(\"{} steps to converge\".format(len(fsg)))\n",
    "conv_rate(gradient, -1)"
   ]
  },
  {
   "cell_type": "markdown",
   "metadata": {},
   "source": [
    "The Convergence Rate of the Nesterov algorithm does not stabilize, but the algorithm converges faster"
   ]
  },
  {
   "cell_type": "code",
   "execution_count": 36,
   "metadata": {},
   "outputs": [
    {
     "name": "stdout",
     "output_type": "stream",
     "text": [
      "60 steps to converge\n"
     ]
    },
    {
     "data": {
      "image/png": "[encoded data removed]",
      "text/plain": [
       "<matplotlib.figure.Figure at 0x7f0f826eb9e8>"
      ]
     },
     "metadata": {},
     "output_type": "display_data"
    },
    {
     "data": {
      "text/plain": [
       "array([  0.49421053,   0.49690096,   0.39221134,   0.2909137 ,\n",
       "         0.20740341,   0.32070919,   1.00785124,   0.8095745 ,\n",
       "         0.4913095 ,   0.25217111,   0.03723599,   4.23845882,\n",
       "         2.59856149,   1.1161091 ,   0.79441976,   0.68479569,\n",
       "         0.64374137,   0.58634258,   0.4658813 ,   0.28541932,\n",
       "         0.16951085,   3.34544421,   2.44775833,   1.42082747,\n",
       "         1.04294255,   0.83376409,   0.67997624,   0.53621969,\n",
       "         0.37055196,   0.15200652,   0.32700927,   7.95699523,\n",
       "         2.14635021,   1.35685007,   1.03472535,   0.83477434,\n",
       "         0.6743682 ,   0.5165363 ,   0.32924057,   0.07914636,\n",
       "         1.59785553,   5.69768182,   1.93127692,   1.29120454,\n",
       "         1.00241824,   0.81184079,   0.65142852,   0.48676387,\n",
       "         0.28383663,   0.02434206,  13.67115158,   3.92046299,\n",
       "         1.74607028,   1.22607947,   0.9656184 ,   0.78311057,\n",
       "         0.62232369,   0.45033594,   0.23074866])"
      ]
     },
     "execution_count": 36,
     "metadata": {},
     "output_type": "execute_result"
    }
   ],
   "source": [
    "print(\"{} steps to converge\".format(len(fsn)))\n",
    "conv_rate(nesterov,-1)"
   ]
  }
 ],
 "metadata": {
  "kernelspec": {
   "display_name": "Python 3",
   "language": "python",
   "name": "python3"
  },
  "language_info": {
   "codemirror_mode": {
    "name": "ipython",
    "version": 3
   },
   "file_extension": ".py",
   "mimetype": "text/x-python",
   "name": "python",
   "nbconvert_exporter": "python",
   "pygments_lexer": "ipython3",
   "version": "3.5.2"
  }
 },
 "nbformat": 4,
 "nbformat_minor": 2
}
