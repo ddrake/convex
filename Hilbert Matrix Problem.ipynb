{
 "cells": [
  {
   "cell_type": "markdown",
   "metadata": {},
   "source": [
    "### Problem 2.\n",
    "Consider the minimization problem:\n",
    "\n",
    "minimize $x^TAx$, $x \\in R^5$\n",
    "\n",
    "Where A is the 5x5 Hilbert matrix"
   ]
  },
  {
   "cell_type": "code",
   "execution_count": 1,
   "metadata": {
    "collapsed": true
   },
   "outputs": [],
   "source": [
    "from numpy import *\n",
    "import scipy.linalg as la\n",
    "\n",
    "from matplotlib import pyplot as plt\n",
    "\n",
    "h = la.hilbert(5)\n",
    "def f(x):\n",
    "    return x.dot(la.hilbert(5).dot(x))\n",
    "\n",
    "def grad_f(x):\n",
    "    return 2*la.hilbert(5).dot(x)\n",
    "\n",
    "def gradient(max_gradf=1.0e-2, x0=[1.,2.,3.,4.,5.], t=0.1):\n",
    "    fs = []\n",
    "    xk = array(x0)\n",
    "    gfk = grad_f(xk)\n",
    "    gfk_n2 = la.norm(gfk)\n",
    "    while gfk_n2 > max_gradf:\n",
    "        gfk = grad_f(xk)\n",
    "        gfk_n2 = la.norm(gfk)\n",
    "        xk -= t*gfk\n",
    "        fk = f(xk)\n",
    "        fs.append(fk)\n",
    "    return array(fs), xk\n",
    "\n",
    "def conv_rate(alg):\n",
    "    fs, x = alg()\n",
    "    rs = (fs[1:]+1)/(fs[:-1]+1)\n",
    "    plt.plot(rs)\n",
    "    plt.show()\n",
    "    return rs\n",
    "\n"
   ]
  },
  {
   "cell_type": "code",
   "execution_count": 2,
   "metadata": {
    "collapsed": true
   },
   "outputs": [],
   "source": [
    "fs, xk = gradient()"
   ]
  },
  {
   "cell_type": "code",
   "execution_count": 3,
   "metadata": {},
   "outputs": [
    {
     "data": {
      "image/png": "[encoded data removed]",
      "text/plain": [
       "<matplotlib.figure.Figure at 0x7f52c43cbcc0>"
      ]
     },
     "metadata": {},
     "output_type": "display_data"
    }
   ],
   "source": [
    "plt.plot(fs)\n",
    "plt.show()"
   ]
  },
  {
   "cell_type": "code",
   "execution_count": null,
   "metadata": {
    "collapsed": true
   },
   "outputs": [],
   "source": []
  }
 ],
 "metadata": {
  "kernelspec": {
   "display_name": "Python 3",
   "language": "python",
   "name": "python3"
  },
  "language_info": {
   "codemirror_mode": {
    "name": "ipython",
    "version": 3
   },
   "file_extension": ".py",
   "mimetype": "text/x-python",
   "name": "python",
   "nbconvert_exporter": "python",
   "pygments_lexer": "ipython3",
   "version": "3.5.2"
  }
 },
 "nbformat": 4,
 "nbformat_minor": 2
}
